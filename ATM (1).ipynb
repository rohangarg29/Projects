{
 "cells": [
  {
   "cell_type": "code",
   "execution_count": 1,
   "id": "868ffc83",
   "metadata": {},
   "outputs": [],
   "source": [
    "import os"
   ]
  },
  {
   "cell_type": "code",
   "execution_count": 16,
   "id": "1ef5d214",
   "metadata": {},
   "outputs": [
    {
     "data": {
      "text/plain": [
       "'C:\\\\Users\\\\kunal\\\\Downloads\\\\project'"
      ]
     },
     "metadata": {},
     "output_type": "display_data"
    }
   ],
   "source": [
    "display (os.getcwd())"
   ]
  },
  {
   "cell_type": "code",
   "execution_count": 17,
   "id": "c822dbb7",
   "metadata": {},
   "outputs": [],
   "source": [
    "os.chdir ('C:\\\\Users\\\\kunal\\\\Downloads\\\\project')"
   ]
  },
  {
   "cell_type": "code",
   "execution_count": 18,
   "id": "b0628b8b",
   "metadata": {},
   "outputs": [
    {
     "data": {
      "text/plain": [
       "'C:\\\\Users\\\\kunal\\\\Downloads\\\\project'"
      ]
     },
     "metadata": {},
     "output_type": "display_data"
    }
   ],
   "source": [
    "display (os.getcwd())"
   ]
  },
  {
   "cell_type": "code",
   "execution_count": 31,
   "id": "fc8129b4",
   "metadata": {},
   "outputs": [],
   "source": [
    "def transfer_account(a,b,c,d,e,us):\n",
    "    print(a, b, c, d, e)\n",
    "    f = str(a) + \",\" + str(b) + \",\" + str(c) + \",\" + str(d)+\",\"+ str(us)+ \"\\n\"\n",
    "    g = str(a) + \",\" + str(b) + \",\" + str(c) + \",\" + str(e)+\",\"+ str(us)+\"\\n\"\n",
    "    z = input(\"Enter the card no : \")\n",
    "    y = z.split(\" \")\n",
    "    x = str(y[0])+str(y[1])+str(y[2])\n",
    "    with open('database.txt', 'r') as file:\n",
    "        for line in file:\n",
    "            clean_line = line.rstrip('\\n')\n",
    "            word =clean_line.split(',')\n",
    "            number = int(word[1])\n",
    "            if number == int(x) :\n",
    "                u = int(word[0])\n",
    "                v = int(word[1])\n",
    "                s = int(word[2])\n",
    "                t = int(word[3])\n",
    "                user = word[4]\n",
    "    w = int(t) + d - e\n",
    "    h = str(u) + \",\" + str(v) + \",\" + str(s) + \",\" + str(t) +\",\"+ str(user)+ \"\\n\"\n",
    "    k = str(u) + \",\" + str(v) + \",\" + str(s) + \",\" + str(w) +\",\"+ str(user)+\"\\n\"\n",
    "    print(\"Money transfered to \",z,\" is : \", d-e)\n",
    "    with open('database.txt', 'r') as file:\n",
    "        lines = file.readlines()\n",
    "    for i in range(len(lines)):\n",
    "        if a == i + 1:\n",
    "            lines[i] = lines[i].replace(f,g)\n",
    "    for j in range(len(lines)):\n",
    "        if u == j + 1:\n",
    "            lines[j] = lines[j].replace(h,k)\n",
    "    with open('database.txt', 'w') as file:\n",
    "        file.writelines(lines)\n",
    "#file_update('value_to_update', 'value2', 'value3', 'old_value', 'new_value')"
   ]
  },
  {
   "cell_type": "code",
   "execution_count": 32,
   "id": "b69be5b7",
   "metadata": {},
   "outputs": [],
   "source": [
    "def file_update(a, b, c, d, e,u):\n",
    "    f = str(a) + \",\" + str(b) + \",\" + str(c) + \",\" + str(d) +\",\"+ str(u)+ \"\\n\"\n",
    "    g = str(a) + \",\" + str(b) + \",\" + str(c) + \",\" + str(e) +\",\"+ str(u)+ \"\\n\"\n",
    "    with open('database.txt', 'r') as file:\n",
    "        lines_before = file.readlines()\n",
    "    for i in range(len(lines_before)):\n",
    "        if a == i + 1:\n",
    "            lines_before[i] = lines_before[i].replace(f, g)\n",
    "    with open('database.txt', 'w') as file:\n",
    "        file.writelines(lines_before)\n",
    "# Example usage\n",
    "#file_update('value_to_update', 'value2', 'value3', 'old_value', 'new_value')\n"
   ]
  },
  {
   "cell_type": "code",
   "execution_count": 33,
   "id": "4fc19f08",
   "metadata": {},
   "outputs": [],
   "source": [
    "def operator(g,h,j,k,username):\n",
    "    print(g,h,j,k)\n",
    "    user = username\n",
    "    i = int(input(\"enter the password : \"))\n",
    "    if j == i :\n",
    "        print('''\n",
    "        1. Deposit\n",
    "        2.withdraw\n",
    "        3.ministatement\n",
    "        4.transfer\n",
    "        5.exit''')\n",
    "        amount=k\n",
    "        option=int(input(\"select your option : \"))\n",
    "        if option==1:\n",
    "            dep= int(input(\"Enter the amount: \"))\n",
    "            amount+=dep\n",
    "            print(\"Total amount is:\",amount)\n",
    "            file_update(g,h,j,k,amount,user)\n",
    "        elif option==2:\n",
    "            withd=int(input(\"Enter the amount: \"))\n",
    "            amount-=withd\n",
    "            print(\"Total amount is :\",amount)\n",
    "            file_update(g,h,j,k,amount,user)\n",
    "        elif option==3:\n",
    "            print(\"=====ATM=====\")\n",
    "            print(\"Username\",username) \n",
    "            print(\"Total amount\", amount)\n",
    "            print(\"Thankyou for visiting\") \n",
    "            print(\"visit again\")\n",
    "        elif option==4 :\n",
    "            trans=int(input(\"Enter the amount: \"))\n",
    "            amount-=trans\n",
    "            print(\"Total amount is :\",amount)\n",
    "            transfer_account(g,h,j,k,amount,user)\n",
    "        else :\n",
    "            print(\"Goodbye have a nice day\")\n",
    "    else :\n",
    "        print(\"please enter corret login creedentials\")"
   ]
  },
  {
   "cell_type": "code",
   "execution_count": 34,
   "id": "04d13490",
   "metadata": {},
   "outputs": [
    {
     "name": "stdout",
     "output_type": "stream",
     "text": [
      " Enter the card no : 1234 5678 9015\n"
     ]
    }
   ],
   "source": [
    "a = input(\" Enter the card no : \")"
   ]
  },
  {
   "cell_type": "code",
   "execution_count": 35,
   "id": "a9b90f02",
   "metadata": {},
   "outputs": [
    {
     "name": "stdout",
     "output_type": "stream",
     "text": [
      "12\n",
      "[1234, 5678, 9015]\n"
     ]
    }
   ],
   "source": [
    "b =[int(x) for x in a.split(\" \")]\n",
    "e = len(b)\n",
    "d = str(b[0])+str(b[1])+str(b[2])\n",
    "f = a.split(\" \")\n",
    "g = \"\".join(f)\n",
    "c = len(str(g))\n",
    "print(c)\n",
    "print(b)"
   ]
  },
  {
   "cell_type": "code",
   "execution_count": 3,
   "id": "2e3b6512",
   "metadata": {},
   "outputs": [
    {
     "ename": "NameError",
     "evalue": "name 'c' is not defined",
     "output_type": "error",
     "traceback": [
      "\u001b[1;31m---------------------------------------------------------------------------\u001b[0m",
      "\u001b[1;31mNameError\u001b[0m                                 Traceback (most recent call last)",
      "Input \u001b[1;32mIn [3]\u001b[0m, in \u001b[0;36m<cell line: 1>\u001b[1;34m()\u001b[0m\n\u001b[1;32m----> 1\u001b[0m \u001b[38;5;28;01mif\u001b[39;00m \u001b[43mc\u001b[49m \u001b[38;5;241m==\u001b[39m \u001b[38;5;241m12\u001b[39m :\n\u001b[0;32m      2\u001b[0m     \u001b[38;5;28;01mwith\u001b[39;00m \u001b[38;5;28mopen\u001b[39m(\u001b[38;5;124m'\u001b[39m\u001b[38;5;124mdatabase.txt\u001b[39m\u001b[38;5;124m'\u001b[39m, \u001b[38;5;124m'\u001b[39m\u001b[38;5;124mr\u001b[39m\u001b[38;5;124m'\u001b[39m) \u001b[38;5;28;01mas\u001b[39;00m file:\n\u001b[0;32m      3\u001b[0m         \u001b[38;5;28;01mfor\u001b[39;00m line \u001b[38;5;129;01min\u001b[39;00m file:\n",
      "\u001b[1;31mNameError\u001b[0m: name 'c' is not defined"
     ]
    }
   ],
   "source": [
    "if c == 12 :\n",
    "    with open('database.txt', 'r') as file:\n",
    "        for line in file:\n",
    "            clean_line = line.rstrip('\\n')\n",
    "            word =clean_line.split(',')\n",
    "            number = int(word[1])\n",
    "            if number == int(d) :\n",
    "                operator(int(word[0]),int(word[1]),int(word[2]),int(word[3]),word[4])\n",
    "else :\n",
    "    print(\"Please enter the right PIN\")"
   ]
  },
  {
   "cell_type": "code",
   "execution_count": null,
   "id": "b5cd556d",
   "metadata": {},
   "outputs": [],
   "source": []
  },
  {
   "cell_type": "code",
   "execution_count": null,
   "id": "482c4f9e",
   "metadata": {},
   "outputs": [],
   "source": []
  },
  {
   "cell_type": "code",
   "execution_count": null,
   "id": "2c815185",
   "metadata": {},
   "outputs": [],
   "source": []
  },
  {
   "cell_type": "code",
   "execution_count": null,
   "id": "49fb80e3",
   "metadata": {},
   "outputs": [],
   "source": []
  },
  {
   "cell_type": "code",
   "execution_count": null,
   "id": "1126ccc4",
   "metadata": {},
   "outputs": [],
   "source": []
  }
 ],
 "metadata": {
  "kernelspec": {
   "display_name": "Python 3 (ipykernel)",
   "language": "python",
   "name": "python3"
  },
  "language_info": {
   "codemirror_mode": {
    "name": "ipython",
    "version": 3
   },
   "file_extension": ".py",
   "mimetype": "text/x-python",
   "name": "python",
   "nbconvert_exporter": "python",
   "pygments_lexer": "ipython3",
   "version": "3.9.12"
  }
 },
 "nbformat": 4,
 "nbformat_minor": 5
}
